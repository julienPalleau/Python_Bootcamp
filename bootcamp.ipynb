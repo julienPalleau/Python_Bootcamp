{
 "cells": [
  {
   "cell_type": "code",
   "execution_count": 44,
   "metadata": {},
   "outputs": [],
   "source": [
    "def say_hello(name='argument name is missing'):\n",
    "    print(f\"Hello {name}\")"
   ]
  },
  {
   "cell_type": "code",
   "execution_count": 46,
   "metadata": {},
   "outputs": [
    {
     "name": "stdout",
     "output_type": "stream",
     "text": [
      "Hello Julien\n"
     ]
    }
   ],
   "source": [
    "say_hello('Julien')"
   ]
  },
  {
   "cell_type": "code",
   "execution_count": 47,
   "metadata": {},
   "outputs": [],
   "source": [
    "def add_num(num1=0, num2=0):\n",
    "    return num1 + num2"
   ]
  },
  {
   "cell_type": "code",
   "execution_count": 49,
   "metadata": {},
   "outputs": [
    {
     "data": {
      "text/plain": [
       "7"
      ]
     },
     "execution_count": 49,
     "metadata": {},
     "output_type": "execute_result"
    }
   ],
   "source": [
    "add_num(5, 2)"
   ]
  },
  {
   "cell_type": "code",
   "execution_count": 51,
   "metadata": {},
   "outputs": [],
   "source": [
    "def even_check(number):\n",
    "    return number % 2 == 0"
   ]
  },
  {
   "cell_type": "code",
   "execution_count": 53,
   "metadata": {},
   "outputs": [
    {
     "data": {
      "text/plain": [
       "True"
      ]
     },
     "execution_count": 53,
     "metadata": {},
     "output_type": "execute_result"
    }
   ],
   "source": [
    "even_check(8)"
   ]
  },
  {
   "cell_type": "code",
   "execution_count": 61,
   "metadata": {},
   "outputs": [],
   "source": [
    "def check_even_list(num_list):\n",
    "    even_numbers = []\n",
    "    for number in num_list:\n",
    "        if number % 2 == 0:\n",
    "            even_numbers.append(number)\n",
    "        else:\n",
    "            pass\n",
    "    return even_numbers"
   ]
  },
  {
   "cell_type": "code",
   "execution_count": 63,
   "metadata": {},
   "outputs": [
    {
     "data": {
      "text/plain": [
       "[2, 4]"
      ]
     },
     "execution_count": 63,
     "metadata": {},
     "output_type": "execute_result"
    }
   ],
   "source": [
    "check_even_list([1,2,3,4,5])"
   ]
  },
  {
   "cell_type": "code",
   "execution_count": 67,
   "metadata": {},
   "outputs": [],
   "source": [
    "work_hours = [('Abby', 100), ('Billy', 4000), ('Cassy', 800)]\n",
    "def employee_check(work_hours):\n",
    "    current_max = 0\n",
    "    employee_of_month = ''\n",
    "    for employee, hours in work_hours:\n",
    "        if hours > current_max:\n",
    "            current_max = hours\n",
    "            employee_of_month = employee\n",
    "        else:\n",
    "            pass\n",
    "    return(employee_of_month, current_max)\n"
   ]
  },
  {
   "cell_type": "code",
   "execution_count": 68,
   "metadata": {},
   "outputs": [
    {
     "data": {
      "text/plain": [
       "('Billy', 4000)"
      ]
     },
     "execution_count": 68,
     "metadata": {},
     "output_type": "execute_result"
    }
   ],
   "source": [
    "employee_check(work_hours)"
   ]
  },
  {
   "cell_type": "code",
   "execution_count": 69,
   "metadata": {},
   "outputs": [
    {
     "data": {
      "text/plain": [
       "[4, 6, 5, 1, 2, 7, 3]"
      ]
     },
     "execution_count": 69,
     "metadata": {},
     "output_type": "execute_result"
    }
   ],
   "source": [
    "example = [1,2,3,4,5,6,7]\n",
    "from random import shuffle\n",
    "def shuffle_list(mylist):\n",
    "    shuffle(mylist)\n",
    "    return mylist\n",
    "    \n",
    "result = shuffle_list(example)\n",
    "result"
   ]
  },
  {
   "cell_type": "code",
   "execution_count": 73,
   "metadata": {},
   "outputs": [
    {
     "name": "stdout",
     "output_type": "stream",
     "text": [
      "Pick up a number: 0, 1 or 22\n",
      "Correct !\n"
     ]
    }
   ],
   "source": [
    "def shuffle_list(mylist):\n",
    "    shuffle(mylist)\n",
    "    return mylist\n",
    "\n",
    "def player_guess():\n",
    "    guess = ''\n",
    "    while guess not in ['0','1','2']:\n",
    "        guess = input(\"Pick up a number: 0, 1 or 2\")\n",
    "        return int(guess)\n",
    "\n",
    "def check_guess(mylist, guess):\n",
    "    if mylist[guess] == 'O':\n",
    "        print(\"Correct !\")\n",
    "    else:\n",
    "        print(\"Wrong Guess !\")\n",
    "        print(mylist)\n",
    "\n",
    "mylist = [' ', 'O', ' ']\n",
    "mixedup_list = shuffle_list(mylist)\n",
    "guess = player_guess()\n",
    "check_guess(mixedup_list, guess)"
   ]
  },
  {
   "cell_type": "code",
   "execution_count": null,
   "metadata": {},
   "outputs": [],
   "source": []
  },
  {
   "cell_type": "code",
   "execution_count": 41,
   "metadata": {},
   "outputs": [
    {
     "name": "stdout",
     "output_type": "stream",
     "text": [
      "Welcome to Tic Tac Toe!\n"
     ]
    }
   ],
   "source": [
    "from IPython.display import clear_output\n",
    "clear_output()\n",
    "    \n",
    "def display_board(board):\n",
    "    print('-----------')\n",
    "    print('   |   |')\n",
    "    print(' ' + board[7] + ' | ' + board[8] + ' | ' + board[9])\n",
    "    print('   |   |')\n",
    "    print('-----------')\n",
    "    print('   |   |')\n",
    "    print(' ' + board[4] + ' | ' + board[5] + ' | ' + board[6])\n",
    "    print('   |   |')\n",
    "    print('-----------')\n",
    "    print('   |   |')\n",
    "    print(' ' + board[1] + ' | ' + board[2] + ' | ' + board[3])\n",
    "    print('   |   |')\n",
    "    print('-----------')\n",
    "\n",
    "def player_input():\n",
    "    lettre = input(\"A votre tour de jouer (X ou O): \")\n",
    "    while (lettre not in ['X', 'O']):\n",
    "        lettre = input(\"Veuillez jouer utilisant la lettre appropried (X ou O): \")\n",
    "    return lettre\n",
    "\n",
    "def position_input():\n",
    "    position = ''\n",
    "    while (position not in ['1','2','3','4','5','6','7','8','9']):\n",
    "        position = input(\"Entrer une position comprise entre 1 et 9: \")\n",
    "    return int(position)\n",
    "\n",
    "def place_marker(board, marker, position):\n",
    "    board[position]=marker\n",
    "    \n",
    "def win_check(board, mark):\n",
    "    if (board[7] == board[4] == board[1]):\n",
    "        if mark == board[7]:\n",
    "            return True\n",
    "        else:\n",
    "            return False\n",
    "    elif (board[8] == board[5] == board [2]):\n",
    "        if mark == board[8]:\n",
    "            return True\n",
    "        else:\n",
    "            return False\n",
    "    elif (board[9] == board[6] == board[3]):\n",
    "        if mark == board[9]:\n",
    "            return True\n",
    "        else:\n",
    "            return False\n",
    "    elif (board[7] == board[8] == board[9]):\n",
    "        if mark == board[7]:\n",
    "            return True\n",
    "        else:\n",
    "            return False\n",
    "    elif (board[4] == board[5] == board [6]):\n",
    "        if mark == board[4]:\n",
    "            return True\n",
    "        else:\n",
    "            return False\n",
    "    elif (board[1] == board[2] == board[3]):\n",
    "        if mark == board[1]:\n",
    "            return True\n",
    "        else:\n",
    "            return False\n",
    "    elif (board[7] == board[5] == board[3]):\n",
    "        if mark == board[7]:\n",
    "            return True\n",
    "        else:\n",
    "            return False\n",
    "    elif (board[1] == board[5] == board [9]):\n",
    "        if mark == board[1]:\n",
    "            return True\n",
    "        else:\n",
    "            return False\n",
    "    else:\n",
    "        return False\n",
    "    \n",
    "import random\n",
    "def choose_first():\n",
    "    message = {0:\"Le premier joueur commence\", 1:\"Le second joueur commence\"}\n",
    "    return message.get(random.randint(0,1))\n",
    "\n",
    "def space_check(board, position):\n",
    "    if board[position] == ' ':\n",
    "        return True\n",
    "    else:\n",
    "        return False\n",
    "    \n",
    "def full_board_check(board):\n",
    "    result=0\n",
    "    for case in board:\n",
    "        if case in ['X','O']:\n",
    "            result+=1\n",
    "    if result==9:\n",
    "        return True\n",
    "    else:\n",
    "        return False\n",
    "    \n",
    "def player_choice(board):\n",
    "    print(board)\n",
    "    lettre = player_input()\n",
    "    position = position_input()\n",
    "    status = space_check(board, position)\n",
    "    print(lettre, status)\n",
    "    if (lettre in ['X', 'O'] and status):\n",
    "        return position\n",
    "    else:\n",
    "        return False\n",
    "    \n",
    "def replay():\n",
    "    reponse = ''\n",
    "    while reponse not in ['O', 'N']:\n",
    "        reponse = input('Voulez vous jouer une nouvelle fois ? O/N : ')\n",
    "        if reponse == 'O':\n",
    "            return True\n",
    "        elif reponse == 'N':\n",
    "            return False\n",
    "        \n",
    "print('Welcome to Tic Tac Toe!')\n",
    "\n",
    "#while True:\n",
    "    # Set the game up here\n",
    "    #pass\n",
    "\n",
    "    #while game_on:\n",
    "        #Player 1 Turn\n",
    "        \n",
    "        \n",
    "        # Player2's turn.\n",
    "            \n",
    "            #pass\n",
    "\n",
    "    #if not replay():\n",
    "        #break"
   ]
  },
  {
   "cell_type": "code",
   "execution_count": 40,
   "metadata": {},
   "outputs": [
    {
     "name": "stdout",
     "output_type": "stream",
     "text": [
      "Voulez vous jouer une nouvelle fois ? O/N : d\n",
      "Voulez vous jouer une nouvelle fois ? O/N : 8\n",
      "Voulez vous jouer une nouvelle fois ? O/N : o\n",
      "Voulez vous jouer une nouvelle fois ? O/N : n\n",
      "Voulez vous jouer une nouvelle fois ? O/N : N\n"
     ]
    },
    {
     "data": {
      "text/plain": [
       "False"
      ]
     },
     "execution_count": 40,
     "metadata": {},
     "output_type": "execute_result"
    }
   ],
   "source": [
    "test_board = ['#','X','O','X','O','X','O','X','O',' ']\n",
    "# player_input()\n",
    "# position_input()\n",
    "# place_marker(test_board,'$',8)\n",
    "# display_board(test_board)\n",
    "# win_check(test_board,'X')\n",
    "# choose_first()\n",
    "# space_check(test_board, 9)\n",
    "# full_board_check(test_board)\n",
    "# player_choice(test_board)\n",
    "replay()"
   ]
  },
  {
   "cell_type": "code",
   "execution_count": null,
   "metadata": {},
   "outputs": [],
   "source": []
  },
  {
   "cell_type": "code",
   "execution_count": null,
   "metadata": {},
   "outputs": [],
   "source": []
  }
 ],
 "metadata": {
  "kernelspec": {
   "display_name": "Python 3",
   "language": "python",
   "name": "python3"
  },
  "language_info": {
   "codemirror_mode": {
    "name": "ipython",
    "version": 3
   },
   "file_extension": ".py",
   "mimetype": "text/x-python",
   "name": "python",
   "nbconvert_exporter": "python",
   "pygments_lexer": "ipython3",
   "version": "3.7.6"
  }
 },
 "nbformat": 4,
 "nbformat_minor": 4
}
